{
 "cells": [
  {
   "cell_type": "code",
   "execution_count": 1,
   "id": "581f9fcf",
   "metadata": {},
   "outputs": [],
   "source": [
    "import ollama\n",
    "import os\n",
    "import numpy as np\n",
    "import pandas as pd\n",
    "from pypdf import PdfReader"
   ]
  },
  {
   "cell_type": "code",
   "execution_count": null,
   "id": "3e6f054c",
   "metadata": {},
   "outputs": [],
   "source": [
    "ollama.list()"
   ]
  },
  {
   "cell_type": "code",
   "execution_count": null,
   "id": "92b501d7",
   "metadata": {},
   "outputs": [],
   "source": [
    "os.system(\"ollama list > models.txt\")"
   ]
  },
  {
   "cell_type": "code",
   "execution_count": 2,
   "id": "b012e339",
   "metadata": {},
   "outputs": [],
   "source": [
    "models = pd.read_fwf(\"models.txt\")"
   ]
  },
  {
   "cell_type": "code",
   "execution_count": null,
   "id": "d0ea15cf",
   "metadata": {},
   "outputs": [],
   "source": [
    "models[\"NAME\"]"
   ]
  },
  {
   "cell_type": "code",
   "execution_count": 3,
   "id": "3f8e320d",
   "metadata": {},
   "outputs": [],
   "source": [
    "model = models[\"NAME\"][1]"
   ]
  },
  {
   "cell_type": "code",
   "execution_count": null,
   "id": "783315ff",
   "metadata": {},
   "outputs": [],
   "source": [
    "model"
   ]
  },
  {
   "cell_type": "code",
   "execution_count": null,
   "id": "232c15cc",
   "metadata": {},
   "outputs": [],
   "source": [
    "#model = input(\"Lutfen model ismini giriniz : \")"
   ]
  },
  {
   "cell_type": "code",
   "execution_count": 4,
   "id": "eaea34c0",
   "metadata": {},
   "outputs": [],
   "source": [
    "role = input(\"Lutfen role giriniz : \")"
   ]
  },
  {
   "cell_type": "code",
   "execution_count": 12,
   "id": "98f423ae",
   "metadata": {},
   "outputs": [],
   "source": [
    "prompt = input(\"Lutfen prompt giriniz : \")"
   ]
  },
  {
   "cell_type": "code",
   "execution_count": 36,
   "id": "30f1a8c1",
   "metadata": {},
   "outputs": [],
   "source": [
    "message = {'role': role, 'content': prompt}"
   ]
  },
  {
   "cell_type": "code",
   "execution_count": null,
   "id": "3f295b83",
   "metadata": {},
   "outputs": [],
   "source": [
    "message"
   ]
  },
  {
   "cell_type": "code",
   "execution_count": 12,
   "id": "4ec2f20a",
   "metadata": {},
   "outputs": [],
   "source": [
    "with open(\"note.txt\",\"r\") as file:\n",
    "    information = file.read()"
   ]
  },
  {
   "cell_type": "code",
   "execution_count": null,
   "id": "03bc8602",
   "metadata": {},
   "outputs": [],
   "source": [
    "information"
   ]
  },
  {
   "cell_type": "code",
   "execution_count": null,
   "id": "d4cc94c5",
   "metadata": {},
   "outputs": [],
   "source": [
    "message = {'role': role, 'content': prompt + \"\\n\" + information}"
   ]
  },
  {
   "cell_type": "code",
   "execution_count": 15,
   "id": "1ac7346e",
   "metadata": {},
   "outputs": [],
   "source": [
    "reader = PdfReader(\"Python.pdf\")"
   ]
  },
  {
   "cell_type": "code",
   "execution_count": 22,
   "id": "974d5ba7",
   "metadata": {},
   "outputs": [],
   "source": [
    "page = reader.pages[1]"
   ]
  },
  {
   "cell_type": "code",
   "execution_count": 28,
   "id": "1c082f6f",
   "metadata": {},
   "outputs": [],
   "source": [
    "information = page.extract_text()"
   ]
  },
  {
   "cell_type": "code",
   "execution_count": 7,
   "id": "98e4f24a",
   "metadata": {},
   "outputs": [],
   "source": [
    "information = \"\"\n",
    "reader = PdfReader(\"Python.pdf\")\n",
    "for sayfa in range(len(reader.pages)):\n",
    "    page = reader.pages[sayfa]\n",
    "    information += page.extract_text()\n",
    "    information += \"\\n\""
   ]
  },
  {
   "cell_type": "code",
   "execution_count": 13,
   "id": "8e631ae9",
   "metadata": {},
   "outputs": [],
   "source": [
    "message = {'role': role, 'content': prompt + \"\\n\" + information}"
   ]
  },
  {
   "cell_type": "code",
   "execution_count": null,
   "id": "73ffb83a",
   "metadata": {},
   "outputs": [],
   "source": [
    "try:\n",
    "  response = ollama.chat(model=model, messages=[message])\n",
    "  print(response['message']['content'])\n",
    "except ollama.ResponseError as e:\n",
    "  print('Error:', e.error)\n",
    "  if e.status_code == 404:\n",
    "    ollama.pull(model)"
   ]
  },
  {
   "cell_type": "code",
   "execution_count": null,
   "id": "76145241",
   "metadata": {},
   "outputs": [],
   "source": [
    "ollama.ps()"
   ]
  },
  {
   "cell_type": "code",
   "execution_count": null,
   "id": "35fcd179",
   "metadata": {},
   "outputs": [],
   "source": [
    "os.system(f\"ollama stop {model}\")"
   ]
  }
 ],
 "metadata": {
  "kernelspec": {
   "display_name": "Python 3",
   "language": "python",
   "name": "python3"
  },
  "language_info": {
   "codemirror_mode": {
    "name": "ipython",
    "version": 3
   },
   "file_extension": ".py",
   "mimetype": "text/x-python",
   "name": "python",
   "nbconvert_exporter": "python",
   "pygments_lexer": "ipython3",
   "version": "3.9.2"
  }
 },
 "nbformat": 4,
 "nbformat_minor": 5
}
